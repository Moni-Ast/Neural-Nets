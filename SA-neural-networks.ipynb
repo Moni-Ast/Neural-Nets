{
 "cells": [
  {
   "cell_type": "code",
   "execution_count": 8,
   "metadata": {},
   "outputs": [],
   "source": [
    "from IPython.display import Image\n",
    "import pandas as pd\n",
    "import numpy as np\n",
    "\n",
    "from sklearn import preprocessing\n",
    "from sklearn.model_selection import train_test_split"
   ]
  },
  {
   "cell_type": "code",
   "execution_count": 2,
   "metadata": {},
   "outputs": [],
   "source": [
    "# keras==2.3.1\n",
    "#from keras.models import Sequential\n",
    "#from keras.layers import Dense"
   ]
  },
  {
   "cell_type": "markdown",
   "metadata": {},
   "source": [
    "### Neural Networks"
   ]
  },
  {
   "cell_type": "markdown",
   "metadata": {},
   "source": [
    "#### **A. What are neural networks?**\n",
    "\n",
    "Their name and structure are inspired by the human brain, mimicking the way that bilogical neurons signal to one another. "
   ]
  },
  {
   "cell_type": "code",
   "execution_count": 52,
   "metadata": {},
   "outputs": [
    {
     "data": {
      "text/html": [
       "<img src=\"https://upload.wikimedia.org/wikipedia/commons/4/44/Neuron3.png\"/>"
      ],
      "text/plain": [
       "<IPython.core.display.Image object>"
      ]
     },
     "execution_count": 52,
     "metadata": {},
     "output_type": "execute_result"
    }
   ],
   "source": [
    "Image(url='https://upload.wikimedia.org/wikipedia/commons/4/44/Neuron3.png')"
   ]
  },
  {
   "cell_type": "markdown",
   "metadata": {},
   "source": [
    "A biological neuron is the basic unit of the human brain, which transmits information to other nerve cells, muscles, etc. This is done through a network with billions of connected neurons. Neurons take some inputs (through dendrites), process them, and procides outputs (through axons). If the combination of input signals is a bove a certain threshold, it results in firing or activation of the neuron. The same principle is used in artificial neurons as well. "
   ]
  },
  {
   "cell_type": "markdown",
   "metadata": {},
   "source": [
    "#### a) How do NNs work? \n",
    "https://towardsdatascience.com/machine-learning-for-beginners-an-introduction-to-neural-networks-d49f22d238f9 <br> https://medium.com/swlh/artificial-neural-networks-for-absolute-beginners-a75bc1522e1d  <br> https://towardsdatascience.com/neural-networks-for-beginners-by-beginners-6bfc002e13a2 <br> https://medium.com/the-theory-of-everything/understanding-activation-functions-in-neural-networks-9491262884e0\n",
    "- Neuron"
   ]
  },
  {
   "cell_type": "markdown",
   "metadata": {},
   "source": [
    "The basic unit of a neural network is called **neuron**, which is a computational unit. A neuron takes inputs (variables), does some maths with them and produces an output. \n",
    "Here's what a 2-input neuron looks like:"
   ]
  },
  {
   "cell_type": "markdown",
   "metadata": {},
   "source": [
    "<img src=\"images/2-input-neuron.png\" width=\"400\" height=\"200\">"
   ]
  },
  {
   "cell_type": "markdown",
   "metadata": {},
   "source": [
    "There are 3 things happening in this computational unit: <br>\n",
    "1. Each input is multiplied by a randomly assigned weight: <br>\n",
    "$x1 -> x1*w1$ <br> $x2 -> x2*w2$\n",
    "2. All the weighted inputs are added together with a bias b: <br>\n",
    "$(x1*w1)+(x2*w2)+b$\n",
    "3. The sum is passed through **an activation function** (depends on the type of predcition required by a model): <br>\n",
    "$y = f(x1*w1+x2*w2+b)$\n",
    "\n",
    "A commonly used **activation function** is the sigmoid function:  $\\large S(y) = \\frac{1}{1+e^-y}$\n",
    "\n",
    "<img src=\"images/sigmoid-func.png\" width=\"400\" height=\"200\">\n",
    "\n",
    "The sigmoid function only outputs numbers in the range (0,1). It is compressing $(-\\infty,\\infty)$  to (0,1). Big -ve numbers become ~0, and big positive numbers become ~1. It is especially sued for models where we have to predict the probability as an output."
   ]
  },
  {
   "cell_type": "markdown",
   "metadata": {},
   "source": [
    "**Ex 1: Estimating the output using the sigmoid function**"
   ]
  },
  {
   "cell_type": "code",
   "execution_count": 16,
   "metadata": {},
   "outputs": [
    {
     "name": "stdout",
     "output_type": "stream",
     "text": [
      "The results from the sigmoid function is 0.9990889488055994\n"
     ]
    }
   ],
   "source": [
    "w = np.array([0,1]) # w1 and w2\n",
    "x = np.array([2,3]) # x1 and x2\n",
    "b = 4 # bias\n",
    "\n",
    "def sigmoid(x):\n",
    "  # Our activation function: f(x) = 1 / (1 + e^(-x))\n",
    "  return 1 / (1 + np.exp(-x))\n",
    "\n",
    "class Neuron:\n",
    "    def __init__(self, w, bias):\n",
    "        self.weights = w\n",
    "        self.bias = b\n",
    "\n",
    "    def feedforward(self, inputs):\n",
    "    # Weight inputs, add bias, then use the activation function\n",
    "        total = np.dot(self.weights, inputs) + self.bias\n",
    "        return sigmoid(total)\n",
    "    \n",
    "n = Neuron(w,b)\n",
    "sig_y = n.feedforward(x)\n",
    "print(f'The results from the sigmoid function is {sig_y}')"
   ]
  },
  {
   "cell_type": "markdown",
   "metadata": {},
   "source": [
    "**Why is sigmoid function used widely for classification?**\n",
    "\n",
    "- Imaging we need to predict if it would be a rainy day (0) or a sunny day (1) or whether the input image is of an animal(0) or a bird (1)\n",
    "\n",
    "<img src=\"images/perceptron.png\" width=\"400\" height=\"200\">\n",
    "\n",
    "- In fact, this is called a **perceptron** - a single layer neural network used for binary classification\n",
    "\n",
    "- if we use a step function then we only get 2 possible answers 0 and 1 based on a threshold\n",
    "- if the output is 1, the neuron is considered fired or activated, else not\n",
    "\n",
    "<img src=\"images/step-func.png\" width=\"400\" height=\"200\">\n",
    "\n",
    "- what if there are more than 1 classes in our classification problem? Then we hit the problem of having > 1 activated classes\n",
    "- this is the reason we'd use a sigmoid function because it goes from 0 to 1 and if more than 1 neuron activates, you could find which neuron has the “highest activation” based on probabilities"
   ]
  },
  {
   "cell_type": "markdown",
   "metadata": {},
   "source": [
    "- Neural Network \n",
    "\n",
    "A neural network is nothing more than a bunch of neurons connected together in **layers**.\n",
    "\n",
    "<img src=\"images/neural-network.png\" width=\"600\" height=\"400\">\n",
    "\n",
    "There are 3 types of layers:\n",
    "1. **Input Layer** - used to feed the input, e.g. - if the input consists of 2 variables (e.g: weight and height), the input layer will have 2 **nodes** \n",
    "2. **Output Layer** - if a classification model's job is to predict between 5 classes, this layer will contain 5 **nodes**\n",
    "3. **Hidden Layer** - the layers between the input and output layers. If they are 2 or more, it is called a **Deep Neural Network**"
   ]
  },
  {
   "cell_type": "markdown",
   "metadata": {},
   "source": [
    "#### Cost Functions and Gradient Descent"
   ]
  },
  {
   "cell_type": "markdown",
   "metadata": {},
   "source": [
    "- In order for the netowrk to be able to learn and produce results each layer has to implement two functions  - **forward propagation** (from the input layer we get to the output layer) and **backward propagation** (move from output to input layer)\n",
    "- Differences based on what happens inside of these methods\n",
    "- **Forward propagation** is only responsible for running the input through a function and return the result. No learning, only calculations;\n",
    "- **Backward propagation** is to help us minimize the cost function or the differences between the predictions and the actual values\n",
    "    - updates the parameters of the layer in order to improve the accuracy of the forward propagation\n",
    "    - implement the derivative (gradient descent) of the forward propagation and return the result\n",
    "- **How to minimize the errors?**\n",
    "- We need an optimization algorithm - there are many kinds of optimizers but we will see the most widely used one - Gradient Descent\n",
    "\n",
    "<img src=\"images/gradient-descent.png\" width=\"700\" height=\"500\">\n",
    "\n",
    "- **How does the process work?**\n",
    "- In the first iteration we assign random weights to our input values\n",
    "- In every other iteration the backward propagation helps us change the weights by applying the first derivative to the forward propagation function\n",
    "- the gradient descent (1st derivative) gives us the best weights so we can reach the global minimum of a function at which the errors are minimized\n",
    "- **How fast do the parameters update? Or how quickly we are reaching a global minimum?**\n",
    "- This is what we call a learning rate and has to be passed to the model before we run it\n",
    "\n",
    "<img src=\"images/learning-rate.jpg\" width=\"400\" height=\"200\">\n",
    "\n",
    "- if we choose a learning rate that is too big the parameters will change quickly and we might skip the minimum or the point at which the errors are the smallest\n",
    "- if we choose a learning rate that is too small, it will take much time and hence computng power to reach a good result\n",
    "- start with a learning rate of 0.1 or 0.01 and do hyperparameter tuning from there on"
   ]
  },
  {
   "cell_type": "markdown",
   "metadata": {},
   "source": [
    "#### b) Types of Neural Networks\n",
    "https://www.simplilearn.com/tutorials/deep-learning-tutorial/neural-network <br> https://pub.towardsai.net/main-types-of-neural-networks-and-its-applications-tutorial-734480d7ec8e <br> https://towardsdatascience.com/the-mostly-complete-chart-of-neural-networks-explained-3fb6f2367464 <br> https://analyticsindiamag.com/6-types-of-artificial-neural-networks-currently-being-used-in-todays-technology/\n",
    "\n",
    "<img src=\"images/nn-types.png\" width=\"600\" height=\"400\">"
   ]
  },
  {
   "cell_type": "markdown",
   "metadata": {},
   "source": [
    "<img src=\"images/rnn.png\" width=\"400\" height=\"200\">\n",
    "\n",
    "- variation of feed-forward networks (the data travels in one direction only input to output)\n",
    "- each of the neurons in hidden layers receives an input with a specific delay in time - one or more iterations\n",
    "- we use it when we need to access previous information in current iterations\n",
    "- the hidden layer saves its output to be used for future prediction\n",
    "- the output becomes part of its new input\n",
    "- Ex: when we are trying to predict the next word in a sentence, we need to know the previously used words\n",
    "- Applications:\n",
    "    - Machine translation\n",
    "    - robot control\n",
    "    - time series prediction\n",
    "    - speech recognition\n",
    "    - time series anomaly detection\n",
    "- Downside: \n",
    "    - slow computational speed\n",
    "    - it cannot remember infrom from a long time ago"
   ]
  },
  {
   "cell_type": "markdown",
   "metadata": {},
   "source": [
    "<img src=\"images/lstm.png\" width=\"400\" height=\"200\">\n",
    "\n",
    "- introduces a memory cell - a special cell to process data when data have time gaps\n",
    "- if our RNN fails when we have a large number of relevant data then LSTM is the way to go\n",
    "- as opposed to RNN it can remember data from a long time ago\n",
    "- Applications:\n",
    "    - speech recognition\n",
    "    - writing recognition"
   ]
  },
  {
   "cell_type": "markdown",
   "metadata": {},
   "source": [
    "<img src=\"images/ae.png\" width=\"300\" height=\"100\">\n",
    "\n",
    "- unsupervised machine learning algorithm\n",
    "- the number of hidden cells is smaller than the input cells\n",
    "- the number of input cells equals to the number of output cells\n",
    "- AE requires the output to be as close as possible to the input and forces AE to search for common patterns\n",
    "- works witn ecnoders to convert input data into smaller dimensions and decoders to reconstruct the compressed data\n",
    "- Applications:\n",
    "    - classification\n",
    "    - clustering\n",
    "    - feature compresion"
   ]
  },
  {
   "cell_type": "markdown",
   "metadata": {},
   "source": [
    "<img src=\"images/dcn.png\" width=\"400\" height=\"200\">\n",
    "\n",
    "- convolutional cells that process the input features into batches \n",
    "- this allows the network to remember an image in parts\n",
    "- Applications:\n",
    "    - identify faces, street signs, tumors\n",
    "    - image recognition\n",
    "    - video analysis\n",
    "    - anomaly detection\n",
    "    - drug recognition\n",
    "    - time series forecasting"
   ]
  },
  {
   "cell_type": "markdown",
   "metadata": {},
   "source": [
    "<img src=\"images/ff.png\" width=\"300\" height=\"100\">\n",
    "\n",
    "- the simplest form - the data travels in one direction only - input to output\n",
    "- almost all vision and speech recognition applications use some form of this type of neural network\n",
    "\n",
    "<img src=\"images/rbf.png\" width=\"400\" height=\"200\">\n",
    "\n",
    "- classifies the data point based on its distance from a center point\n",
    "- if there is no training data, for example, we will group things into clusters and create a center point\n",
    "- the network looks for data points that are similar to each other and groups them\n",
    "- applied to power restoration systems"
   ]
  },
  {
   "cell_type": "markdown",
   "metadata": {},
   "source": [
    "#### c) Application to different industries\n",
    "\n",
    "https://blog.statsbot.co/neural-networks-for-beginners-d99f2235efca"
   ]
  },
  {
   "cell_type": "markdown",
   "metadata": {},
   "source": [
    "**Marketing**\n",
    "- market segmentation\n",
    "- unsupervised neural networks used to automatically group and segment customers based on similarities\n",
    "- supervised nn - trained to learn the boundaries between customer segments based on a group og customers\n",
    "\n",
    "**Retail and Sales**\n",
    "- forecasting of sales\n",
    "\n",
    "**Banking and Finance**\n",
    "- derivative securities pricing and hedging\n",
    "- future prices forecasting\n",
    "- exchange rates forecasting\n",
    "- stock performance\n",
    "\n",
    "**Medicine**\n",
    "- a trending research area believed that it willr eceive an extensive application to biomedical systems in the next years\n",
    "- research is mostly on modeling parts of the human body and recognizing diseases from various scans"
   ]
  },
  {
   "cell_type": "markdown",
   "metadata": {},
   "source": [
    "#### **B. Build and train a neural network model using Keras**\n",
    "data: https://drive.google.com/file/d/1GfvKA0qznNVknghV4botnNxyH-KvODOC/view <br> https://www.freecodecamp.org/news/how-to-build-your-first-neural-network-to-predict-house-prices-with-keras-f8db83049159/ <br>\n",
    "**Objective:** to predict whether house prices are above or below median value <br>\n",
    "\n",
    "**Input Features:**\n",
    "- Lot Area (in sq ft)\n",
    "- Overall Quality (scale from 1 to 10)\n",
    "- Overall Condition (scale from 1 to 10)\n",
    "- Total Basement Area (in sq ft)\n",
    "- Number of Full Bathrooms\n",
    "- Number of Half Bathrooms\n",
    "- Number of Bedrooms above ground\n",
    "- Total Number of Rooms above ground\n",
    "- Number of Fireplaces\n",
    "- Garage Area (in sq ft)\n",
    "\n",
    "**Target:**\n",
    "- Is the house price above the median or not? (1 for yes and 0 for no)"
   ]
  },
  {
   "cell_type": "markdown",
   "metadata": {},
   "source": [
    "#### Data Prep"
   ]
  },
  {
   "cell_type": "code",
   "execution_count": 11,
   "metadata": {},
   "outputs": [
    {
     "data": {
      "text/html": [
       "<div>\n",
       "<style scoped>\n",
       "    .dataframe tbody tr th:only-of-type {\n",
       "        vertical-align: middle;\n",
       "    }\n",
       "\n",
       "    .dataframe tbody tr th {\n",
       "        vertical-align: top;\n",
       "    }\n",
       "\n",
       "    .dataframe thead th {\n",
       "        text-align: right;\n",
       "    }\n",
       "</style>\n",
       "<table border=\"1\" class=\"dataframe\">\n",
       "  <thead>\n",
       "    <tr style=\"text-align: right;\">\n",
       "      <th></th>\n",
       "      <th>LotArea</th>\n",
       "      <th>OverallQual</th>\n",
       "      <th>OverallCond</th>\n",
       "      <th>TotalBsmtSF</th>\n",
       "      <th>FullBath</th>\n",
       "      <th>HalfBath</th>\n",
       "      <th>BedroomAbvGr</th>\n",
       "      <th>TotRmsAbvGrd</th>\n",
       "      <th>Fireplaces</th>\n",
       "      <th>GarageArea</th>\n",
       "      <th>AboveMedianPrice</th>\n",
       "    </tr>\n",
       "  </thead>\n",
       "  <tbody>\n",
       "    <tr>\n",
       "      <th>0</th>\n",
       "      <td>8450</td>\n",
       "      <td>7</td>\n",
       "      <td>5</td>\n",
       "      <td>856</td>\n",
       "      <td>2</td>\n",
       "      <td>1</td>\n",
       "      <td>3</td>\n",
       "      <td>8</td>\n",
       "      <td>0</td>\n",
       "      <td>548</td>\n",
       "      <td>1</td>\n",
       "    </tr>\n",
       "    <tr>\n",
       "      <th>1</th>\n",
       "      <td>9600</td>\n",
       "      <td>6</td>\n",
       "      <td>8</td>\n",
       "      <td>1262</td>\n",
       "      <td>2</td>\n",
       "      <td>0</td>\n",
       "      <td>3</td>\n",
       "      <td>6</td>\n",
       "      <td>1</td>\n",
       "      <td>460</td>\n",
       "      <td>1</td>\n",
       "    </tr>\n",
       "    <tr>\n",
       "      <th>2</th>\n",
       "      <td>11250</td>\n",
       "      <td>7</td>\n",
       "      <td>5</td>\n",
       "      <td>920</td>\n",
       "      <td>2</td>\n",
       "      <td>1</td>\n",
       "      <td>3</td>\n",
       "      <td>6</td>\n",
       "      <td>1</td>\n",
       "      <td>608</td>\n",
       "      <td>1</td>\n",
       "    </tr>\n",
       "  </tbody>\n",
       "</table>\n",
       "</div>"
      ],
      "text/plain": [
       "   LotArea  OverallQual  OverallCond  TotalBsmtSF  FullBath  HalfBath  \\\n",
       "0     8450            7            5          856         2         1   \n",
       "1     9600            6            8         1262         2         0   \n",
       "2    11250            7            5          920         2         1   \n",
       "\n",
       "   BedroomAbvGr  TotRmsAbvGrd  Fireplaces  GarageArea  AboveMedianPrice  \n",
       "0             3             8           0         548                 1  \n",
       "1             3             6           1         460                 1  \n",
       "2             3             6           1         608                 1  "
      ]
     },
     "execution_count": 11,
     "metadata": {},
     "output_type": "execute_result"
    }
   ],
   "source": [
    "df = pd.read_csv('housepricedata.csv')\n",
    "df[:3]"
   ]
  },
  {
   "cell_type": "code",
   "execution_count": 12,
   "metadata": {},
   "outputs": [
    {
     "data": {
      "text/plain": [
       "array([[ 8450,     7,     5, ...,     0,   548,     1],\n",
       "       [ 9600,     6,     8, ...,     1,   460,     1],\n",
       "       [11250,     7,     5, ...,     1,   608,     1],\n",
       "       ...,\n",
       "       [ 9042,     7,     9, ...,     2,   252,     1],\n",
       "       [ 9717,     5,     6, ...,     0,   240,     0],\n",
       "       [ 9937,     5,     6, ...,     0,   276,     0]], dtype=int64)"
      ]
     },
     "execution_count": 12,
     "metadata": {},
     "output_type": "execute_result"
    }
   ],
   "source": [
    "# convert our dataset into arrays\n",
    "dataset = df.values\n",
    "dataset"
   ]
  },
  {
   "cell_type": "code",
   "execution_count": 15,
   "metadata": {},
   "outputs": [],
   "source": [
    "# split the dataset into our input features and the label we wish to predict\n",
    "\n",
    "X = dataset[:,0:10]\n",
    "Y = dataset[:,10]\n",
    "\n",
    "# normalize the data between 0 and 1\n",
    "min_max_scaler = preprocessing.MinMaxScaler()\n",
    "X_scale = min_max_scaler.fit_transform(X)\n",
    "\n",
    "# split into train and test\n",
    "X_train, X_test, Y_train, Y_test = train_test_split(X_scale, Y, test_size=0.3)"
   ]
  },
  {
   "cell_type": "markdown",
   "metadata": {},
   "source": [
    "#### Building a neural network model\n",
    "https://machinelearningknowledge.ai/keras-dense-layer-explained-for-beginners/\n",
    "-  think about its architecture\n",
    "- a dense neural network - the dense layer (a regular nn layer)\n",
    "    - A linear operation on the weighted input vectors \n",
    "    - is a fully connected layer, meaning all the neurons in a layer are connected to those in the next layer"
   ]
  },
  {
   "cell_type": "code",
   "execution_count": 19,
   "metadata": {},
   "outputs": [],
   "source": [
    "from tensorflow.keras import Sequential\n",
    "from tensorflow.keras.layers import Conv2D, Flatten, Dense"
   ]
  },
  {
   "cell_type": "code",
   "execution_count": 20,
   "metadata": {},
   "outputs": [],
   "source": [
    "# sequential is saying that we will describe our model sequentially layer by layer\n",
    "model = Sequential()\n",
    "\n",
    "model.add(Dense(32, activation='relu', input_shape=(10,))) # first layer with 32 neurons and input shape = 10 since we've got 10 features, activation function=relu - any negative inputs turns the y value into 0 \n",
    "model.add(Dense(32, activation='relu')) # keras infer the input shape from the output of our first layer\n",
    "model.add(Dense(1, activation='sigmoid')) # 1 neuron and sigmoid activation"
   ]
  },
  {
   "cell_type": "markdown",
   "metadata": {},
   "source": [
    "<img src=\"images/relu.png\" width=\"600\" height=\"400\">\n"
   ]
  },
  {
   "cell_type": "markdown",
   "metadata": {},
   "source": [
    "#### Model configuration\n",
    "- Tell the model which algorithm you want to use to do the optimization\n",
    "- tell the model what loss function to use\n",
    "- tell the model what other metrics you want to track apart from the loss function"
   ]
  },
  {
   "cell_type": "code",
   "execution_count": 21,
   "metadata": {},
   "outputs": [],
   "source": [
    "model.compile(optimizer='sgd', # stochastic gradient descent for optimizing the cost function\n",
    "              loss='binary_crossentropy', # the loss function for outputs that take the values 1 or 0\n",
    "              metrics=['accuracy']) # track accuracy on top of the loss function"
   ]
  },
  {
   "cell_type": "markdown",
   "metadata": {},
   "source": [
    "#### Model Training\n",
    "- batch_size - the number of samples taken sequentially for training the data\n",
    "- epochs - when an ENTIRE dataset is passed forward and backward through the neural network only ONCE assuming all batches have been trained\n",
    "- validation data - the model will tell us how well we are doing on the validation data"
   ]
  },
  {
   "cell_type": "code",
   "execution_count": 22,
   "metadata": {},
   "outputs": [
    {
     "name": "stdout",
     "output_type": "stream",
     "text": [
      "Epoch 1/100\n",
      "32/32 [==============================] - 1s 11ms/step - loss: 0.7346 - accuracy: 0.4894 - val_loss: 0.6986 - val_accuracy: 0.5114\n",
      "Epoch 2/100\n",
      "32/32 [==============================] - 0s 3ms/step - loss: 0.7024 - accuracy: 0.4855 - val_loss: 0.6828 - val_accuracy: 0.5616\n",
      "Epoch 3/100\n",
      "32/32 [==============================] - 0s 3ms/step - loss: 0.6842 - accuracy: 0.5574 - val_loss: 0.6730 - val_accuracy: 0.6370\n",
      "Epoch 4/100\n",
      "32/32 [==============================] - 0s 3ms/step - loss: 0.6762 - accuracy: 0.6167 - val_loss: 0.6643 - val_accuracy: 0.6986\n",
      "Epoch 5/100\n",
      "32/32 [==============================] - 0s 3ms/step - loss: 0.6626 - accuracy: 0.6922 - val_loss: 0.6562 - val_accuracy: 0.7603\n",
      "Epoch 6/100\n",
      "32/32 [==============================] - 0s 3ms/step - loss: 0.6545 - accuracy: 0.7668 - val_loss: 0.6488 - val_accuracy: 0.7740\n",
      "Epoch 7/100\n",
      "32/32 [==============================] - 0s 3ms/step - loss: 0.6483 - accuracy: 0.7777 - val_loss: 0.6418 - val_accuracy: 0.7831\n",
      "Epoch 8/100\n",
      "32/32 [==============================] - 0s 3ms/step - loss: 0.6426 - accuracy: 0.7805 - val_loss: 0.6348 - val_accuracy: 0.7808\n",
      "Epoch 9/100\n",
      "32/32 [==============================] - 0s 3ms/step - loss: 0.6304 - accuracy: 0.7992 - val_loss: 0.6279 - val_accuracy: 0.7900\n",
      "Epoch 10/100\n",
      "32/32 [==============================] - 0s 3ms/step - loss: 0.6236 - accuracy: 0.7984 - val_loss: 0.6211 - val_accuracy: 0.7945\n",
      "Epoch 11/100\n",
      "32/32 [==============================] - 0s 3ms/step - loss: 0.6178 - accuracy: 0.7918 - val_loss: 0.6139 - val_accuracy: 0.7900\n",
      "Epoch 12/100\n",
      "32/32 [==============================] - 0s 3ms/step - loss: 0.6088 - accuracy: 0.8109 - val_loss: 0.6066 - val_accuracy: 0.7922\n",
      "Epoch 13/100\n",
      "32/32 [==============================] - 0s 3ms/step - loss: 0.6032 - accuracy: 0.7990 - val_loss: 0.5991 - val_accuracy: 0.7922\n",
      "Epoch 14/100\n",
      "32/32 [==============================] - 0s 3ms/step - loss: 0.5939 - accuracy: 0.8143 - val_loss: 0.5914 - val_accuracy: 0.7900\n",
      "Epoch 15/100\n",
      "32/32 [==============================] - 0s 3ms/step - loss: 0.5961 - accuracy: 0.7882 - val_loss: 0.5835 - val_accuracy: 0.7945\n",
      "Epoch 16/100\n",
      "32/32 [==============================] - 0s 3ms/step - loss: 0.5811 - accuracy: 0.8116 - val_loss: 0.5754 - val_accuracy: 0.8014\n",
      "Epoch 17/100\n",
      "32/32 [==============================] - 0s 3ms/step - loss: 0.5657 - accuracy: 0.8266 - val_loss: 0.5672 - val_accuracy: 0.8105\n",
      "Epoch 18/100\n",
      "32/32 [==============================] - 0s 3ms/step - loss: 0.5679 - accuracy: 0.8125 - val_loss: 0.5585 - val_accuracy: 0.8037\n",
      "Epoch 19/100\n",
      "32/32 [==============================] - 0s 3ms/step - loss: 0.5525 - accuracy: 0.8239 - val_loss: 0.5498 - val_accuracy: 0.8037\n",
      "Epoch 20/100\n",
      "32/32 [==============================] - 0s 3ms/step - loss: 0.5473 - accuracy: 0.8012 - val_loss: 0.5410 - val_accuracy: 0.8105\n",
      "Epoch 21/100\n",
      "32/32 [==============================] - 0s 3ms/step - loss: 0.5332 - accuracy: 0.8239 - val_loss: 0.5321 - val_accuracy: 0.8105\n",
      "Epoch 22/100\n",
      "32/32 [==============================] - 0s 3ms/step - loss: 0.5213 - accuracy: 0.8272 - val_loss: 0.5230 - val_accuracy: 0.8151\n",
      "Epoch 23/100\n",
      "32/32 [==============================] - 0s 3ms/step - loss: 0.5163 - accuracy: 0.8284 - val_loss: 0.5141 - val_accuracy: 0.8128\n",
      "Epoch 24/100\n",
      "32/32 [==============================] - 0s 3ms/step - loss: 0.5081 - accuracy: 0.8258 - val_loss: 0.5052 - val_accuracy: 0.8105\n",
      "Epoch 25/100\n",
      "32/32 [==============================] - 0s 3ms/step - loss: 0.5116 - accuracy: 0.8058 - val_loss: 0.4960 - val_accuracy: 0.8219\n",
      "Epoch 26/100\n",
      "32/32 [==============================] - 0s 3ms/step - loss: 0.5021 - accuracy: 0.8172 - val_loss: 0.4871 - val_accuracy: 0.8219\n",
      "Epoch 27/100\n",
      "32/32 [==============================] - 0s 3ms/step - loss: 0.4839 - accuracy: 0.8405 - val_loss: 0.4784 - val_accuracy: 0.8242\n",
      "Epoch 28/100\n",
      "32/32 [==============================] - 0s 3ms/step - loss: 0.4609 - accuracy: 0.8506 - val_loss: 0.4699 - val_accuracy: 0.8219\n",
      "Epoch 29/100\n",
      "32/32 [==============================] - 0s 3ms/step - loss: 0.4769 - accuracy: 0.8342 - val_loss: 0.4616 - val_accuracy: 0.8219\n",
      "Epoch 30/100\n",
      "32/32 [==============================] - 0s 3ms/step - loss: 0.4721 - accuracy: 0.8285 - val_loss: 0.4536 - val_accuracy: 0.8174\n",
      "Epoch 31/100\n",
      "32/32 [==============================] - 0s 3ms/step - loss: 0.4430 - accuracy: 0.8442 - val_loss: 0.4456 - val_accuracy: 0.8219\n",
      "Epoch 32/100\n",
      "32/32 [==============================] - 0s 3ms/step - loss: 0.4598 - accuracy: 0.8288 - val_loss: 0.4380 - val_accuracy: 0.8219\n",
      "Epoch 33/100\n",
      "32/32 [==============================] - 0s 3ms/step - loss: 0.4515 - accuracy: 0.8379 - val_loss: 0.4307 - val_accuracy: 0.8219\n",
      "Epoch 34/100\n",
      "32/32 [==============================] - 0s 3ms/step - loss: 0.4048 - accuracy: 0.8714 - val_loss: 0.4237 - val_accuracy: 0.8265\n",
      "Epoch 35/100\n",
      "32/32 [==============================] - 0s 3ms/step - loss: 0.4288 - accuracy: 0.8504 - val_loss: 0.4171 - val_accuracy: 0.8242\n",
      "Epoch 36/100\n",
      "32/32 [==============================] - 0s 3ms/step - loss: 0.4087 - accuracy: 0.8473 - val_loss: 0.4106 - val_accuracy: 0.8311\n",
      "Epoch 37/100\n",
      "32/32 [==============================] - 0s 3ms/step - loss: 0.4023 - accuracy: 0.8634 - val_loss: 0.4047 - val_accuracy: 0.8379\n",
      "Epoch 38/100\n",
      "32/32 [==============================] - 0s 3ms/step - loss: 0.4048 - accuracy: 0.8652 - val_loss: 0.3987 - val_accuracy: 0.8356\n",
      "Epoch 39/100\n",
      "32/32 [==============================] - 0s 3ms/step - loss: 0.3948 - accuracy: 0.8648 - val_loss: 0.3932 - val_accuracy: 0.8379\n",
      "Epoch 40/100\n",
      "32/32 [==============================] - 0s 3ms/step - loss: 0.3804 - accuracy: 0.8715 - val_loss: 0.3880 - val_accuracy: 0.8402\n",
      "Epoch 41/100\n",
      "32/32 [==============================] - 0s 3ms/step - loss: 0.3705 - accuracy: 0.8741 - val_loss: 0.3831 - val_accuracy: 0.8402\n",
      "Epoch 42/100\n",
      "32/32 [==============================] - 0s 3ms/step - loss: 0.3833 - accuracy: 0.8603 - val_loss: 0.3784 - val_accuracy: 0.8447\n",
      "Epoch 43/100\n",
      "32/32 [==============================] - 0s 3ms/step - loss: 0.3887 - accuracy: 0.8446 - val_loss: 0.3738 - val_accuracy: 0.8562\n",
      "Epoch 44/100\n",
      "32/32 [==============================] - 0s 3ms/step - loss: 0.3932 - accuracy: 0.8548 - val_loss: 0.3694 - val_accuracy: 0.8562\n",
      "Epoch 45/100\n",
      "32/32 [==============================] - 0s 3ms/step - loss: 0.3680 - accuracy: 0.8611 - val_loss: 0.3653 - val_accuracy: 0.8584\n",
      "Epoch 46/100\n",
      "32/32 [==============================] - 0s 3ms/step - loss: 0.3644 - accuracy: 0.8636 - val_loss: 0.3614 - val_accuracy: 0.8584\n",
      "Epoch 47/100\n",
      "32/32 [==============================] - 0s 3ms/step - loss: 0.3737 - accuracy: 0.8588 - val_loss: 0.3577 - val_accuracy: 0.8630\n",
      "Epoch 48/100\n",
      "32/32 [==============================] - 0s 3ms/step - loss: 0.3585 - accuracy: 0.8700 - val_loss: 0.3543 - val_accuracy: 0.8630\n",
      "Epoch 49/100\n",
      "32/32 [==============================] - 0s 3ms/step - loss: 0.3625 - accuracy: 0.8486 - val_loss: 0.3510 - val_accuracy: 0.8607\n",
      "Epoch 50/100\n",
      "32/32 [==============================] - 0s 3ms/step - loss: 0.3346 - accuracy: 0.8774 - val_loss: 0.3480 - val_accuracy: 0.8699\n",
      "Epoch 51/100\n",
      "32/32 [==============================] - 0s 3ms/step - loss: 0.3550 - accuracy: 0.8608 - val_loss: 0.3446 - val_accuracy: 0.8744\n",
      "Epoch 52/100\n",
      "32/32 [==============================] - 0s 3ms/step - loss: 0.3517 - accuracy: 0.8620 - val_loss: 0.3415 - val_accuracy: 0.8699\n",
      "Epoch 53/100\n",
      "32/32 [==============================] - 0s 3ms/step - loss: 0.3513 - accuracy: 0.8598 - val_loss: 0.3389 - val_accuracy: 0.8744\n",
      "Epoch 54/100\n",
      "32/32 [==============================] - 0s 3ms/step - loss: 0.3487 - accuracy: 0.8670 - val_loss: 0.3362 - val_accuracy: 0.8790\n",
      "Epoch 55/100\n",
      "32/32 [==============================] - 0s 3ms/step - loss: 0.3427 - accuracy: 0.8634 - val_loss: 0.3335 - val_accuracy: 0.8790\n",
      "Epoch 56/100\n",
      "32/32 [==============================] - 0s 3ms/step - loss: 0.3156 - accuracy: 0.8944 - val_loss: 0.3310 - val_accuracy: 0.8836\n",
      "Epoch 57/100\n",
      "32/32 [==============================] - 0s 3ms/step - loss: 0.3580 - accuracy: 0.8565 - val_loss: 0.3288 - val_accuracy: 0.8790\n",
      "Epoch 58/100\n",
      "32/32 [==============================] - 0s 3ms/step - loss: 0.3235 - accuracy: 0.8864 - val_loss: 0.3266 - val_accuracy: 0.8836\n",
      "Epoch 59/100\n",
      "32/32 [==============================] - 0s 3ms/step - loss: 0.3425 - accuracy: 0.8596 - val_loss: 0.3248 - val_accuracy: 0.8881\n",
      "Epoch 60/100\n",
      "32/32 [==============================] - 0s 3ms/step - loss: 0.3556 - accuracy: 0.8484 - val_loss: 0.3225 - val_accuracy: 0.8767\n",
      "Epoch 61/100\n",
      "32/32 [==============================] - 0s 3ms/step - loss: 0.3345 - accuracy: 0.8703 - val_loss: 0.3201 - val_accuracy: 0.8858\n",
      "Epoch 62/100\n",
      "32/32 [==============================] - 0s 3ms/step - loss: 0.3335 - accuracy: 0.8684 - val_loss: 0.3182 - val_accuracy: 0.8881\n",
      "Epoch 63/100\n",
      "32/32 [==============================] - 0s 3ms/step - loss: 0.3278 - accuracy: 0.8682 - val_loss: 0.3174 - val_accuracy: 0.8881\n",
      "Epoch 64/100\n",
      "32/32 [==============================] - 0s 3ms/step - loss: 0.3037 - accuracy: 0.8783 - val_loss: 0.3142 - val_accuracy: 0.8858\n",
      "Epoch 65/100\n",
      "32/32 [==============================] - 0s 3ms/step - loss: 0.3393 - accuracy: 0.8614 - val_loss: 0.3134 - val_accuracy: 0.8836\n",
      "Epoch 66/100\n",
      "32/32 [==============================] - 0s 3ms/step - loss: 0.3127 - accuracy: 0.8709 - val_loss: 0.3107 - val_accuracy: 0.8881\n",
      "Epoch 67/100\n",
      "32/32 [==============================] - 0s 3ms/step - loss: 0.3462 - accuracy: 0.8767 - val_loss: 0.3090 - val_accuracy: 0.8881\n",
      "Epoch 68/100\n",
      "32/32 [==============================] - 0s 3ms/step - loss: 0.3159 - accuracy: 0.8674 - val_loss: 0.3077 - val_accuracy: 0.8858\n",
      "Epoch 69/100\n",
      "32/32 [==============================] - 0s 3ms/step - loss: 0.2979 - accuracy: 0.8781 - val_loss: 0.3080 - val_accuracy: 0.8858\n",
      "Epoch 70/100\n",
      "32/32 [==============================] - 0s 3ms/step - loss: 0.3158 - accuracy: 0.8737 - val_loss: 0.3045 - val_accuracy: 0.8836\n",
      "Epoch 71/100\n",
      "32/32 [==============================] - 0s 3ms/step - loss: 0.3052 - accuracy: 0.8739 - val_loss: 0.3029 - val_accuracy: 0.8881\n",
      "Epoch 72/100\n",
      "32/32 [==============================] - 0s 3ms/step - loss: 0.3007 - accuracy: 0.8869 - val_loss: 0.3013 - val_accuracy: 0.8858\n",
      "Epoch 73/100\n",
      "32/32 [==============================] - 0s 3ms/step - loss: 0.3206 - accuracy: 0.8723 - val_loss: 0.2999 - val_accuracy: 0.8858\n",
      "Epoch 74/100\n",
      "32/32 [==============================] - 0s 3ms/step - loss: 0.3392 - accuracy: 0.8587 - val_loss: 0.2987 - val_accuracy: 0.8858\n",
      "Epoch 75/100\n",
      "32/32 [==============================] - 0s 3ms/step - loss: 0.3440 - accuracy: 0.8542 - val_loss: 0.2973 - val_accuracy: 0.8881\n",
      "Epoch 76/100\n",
      "32/32 [==============================] - 0s 3ms/step - loss: 0.3150 - accuracy: 0.8613 - val_loss: 0.2959 - val_accuracy: 0.8836\n",
      "Epoch 77/100\n",
      "32/32 [==============================] - 0s 3ms/step - loss: 0.3045 - accuracy: 0.8763 - val_loss: 0.2946 - val_accuracy: 0.8858\n",
      "Epoch 78/100\n",
      "32/32 [==============================] - 0s 3ms/step - loss: 0.2958 - accuracy: 0.8683 - val_loss: 0.2940 - val_accuracy: 0.8858\n",
      "Epoch 79/100\n",
      "32/32 [==============================] - 0s 3ms/step - loss: 0.2995 - accuracy: 0.8881 - val_loss: 0.2922 - val_accuracy: 0.8858\n",
      "Epoch 80/100\n",
      "32/32 [==============================] - 0s 3ms/step - loss: 0.3176 - accuracy: 0.8569 - val_loss: 0.2911 - val_accuracy: 0.8858\n",
      "Epoch 81/100\n",
      "32/32 [==============================] - 0s 3ms/step - loss: 0.3001 - accuracy: 0.8627 - val_loss: 0.2904 - val_accuracy: 0.8881\n",
      "Epoch 82/100\n",
      "32/32 [==============================] - 0s 3ms/step - loss: 0.2967 - accuracy: 0.8751 - val_loss: 0.2887 - val_accuracy: 0.8858\n",
      "Epoch 83/100\n",
      "32/32 [==============================] - 0s 3ms/step - loss: 0.3272 - accuracy: 0.8566 - val_loss: 0.2877 - val_accuracy: 0.8881\n",
      "Epoch 84/100\n",
      "32/32 [==============================] - 0s 3ms/step - loss: 0.3021 - accuracy: 0.8807 - val_loss: 0.2865 - val_accuracy: 0.8904\n",
      "Epoch 85/100\n",
      "32/32 [==============================] - 0s 3ms/step - loss: 0.3086 - accuracy: 0.8734 - val_loss: 0.2859 - val_accuracy: 0.8881\n",
      "Epoch 86/100\n",
      "32/32 [==============================] - 0s 3ms/step - loss: 0.2874 - accuracy: 0.8811 - val_loss: 0.2871 - val_accuracy: 0.8973\n",
      "Epoch 87/100\n",
      "32/32 [==============================] - 0s 3ms/step - loss: 0.3169 - accuracy: 0.8740 - val_loss: 0.2833 - val_accuracy: 0.8904\n",
      "Epoch 88/100\n",
      "32/32 [==============================] - 0s 3ms/step - loss: 0.3310 - accuracy: 0.8527 - val_loss: 0.2832 - val_accuracy: 0.8904\n",
      "Epoch 89/100\n",
      "32/32 [==============================] - 0s 3ms/step - loss: 0.2950 - accuracy: 0.8800 - val_loss: 0.2817 - val_accuracy: 0.8881\n",
      "Epoch 90/100\n",
      "32/32 [==============================] - 0s 3ms/step - loss: 0.3091 - accuracy: 0.8819 - val_loss: 0.2807 - val_accuracy: 0.8904\n",
      "Epoch 91/100\n",
      "32/32 [==============================] - 0s 3ms/step - loss: 0.2815 - accuracy: 0.8765 - val_loss: 0.2797 - val_accuracy: 0.8904\n",
      "Epoch 92/100\n",
      "32/32 [==============================] - 0s 3ms/step - loss: 0.3060 - accuracy: 0.8580 - val_loss: 0.2790 - val_accuracy: 0.8927\n",
      "Epoch 93/100\n",
      "32/32 [==============================] - 0s 3ms/step - loss: 0.3082 - accuracy: 0.8608 - val_loss: 0.2783 - val_accuracy: 0.8927\n",
      "Epoch 94/100\n",
      "32/32 [==============================] - 0s 3ms/step - loss: 0.2774 - accuracy: 0.8846 - val_loss: 0.2782 - val_accuracy: 0.8995\n",
      "Epoch 95/100\n",
      "32/32 [==============================] - 0s 3ms/step - loss: 0.2639 - accuracy: 0.8928 - val_loss: 0.2780 - val_accuracy: 0.8995\n",
      "Epoch 96/100\n",
      "32/32 [==============================] - 0s 3ms/step - loss: 0.2774 - accuracy: 0.8792 - val_loss: 0.2773 - val_accuracy: 0.8995\n",
      "Epoch 97/100\n",
      "32/32 [==============================] - 0s 3ms/step - loss: 0.3225 - accuracy: 0.8634 - val_loss: 0.2746 - val_accuracy: 0.8927\n",
      "Epoch 98/100\n",
      "32/32 [==============================] - 0s 4ms/step - loss: 0.2903 - accuracy: 0.8842 - val_loss: 0.2732 - val_accuracy: 0.8995\n",
      "Epoch 99/100\n",
      "32/32 [==============================] - 0s 3ms/step - loss: 0.2965 - accuracy: 0.8759 - val_loss: 0.2745 - val_accuracy: 0.8995\n",
      "Epoch 100/100\n",
      "32/32 [==============================] - 0s 5ms/step - loss: 0.3151 - accuracy: 0.8722 - val_loss: 0.2733 - val_accuracy: 0.8995\n"
     ]
    }
   ],
   "source": [
    "hist = model.fit(X_train, Y_train,\n",
    "                  batch_size=32, epochs=100,\n",
    "                  validation_data=(X_test, Y_test))"
   ]
  },
  {
   "cell_type": "markdown",
   "metadata": {},
   "source": [
    "### Model evaluation\n",
    "- 90% of the samples are predicted correctly\n",
    "- binary crossentropy gives values between 0 and 1 - the smaller the values the better "
   ]
  },
  {
   "cell_type": "code",
   "execution_count": 25,
   "metadata": {},
   "outputs": [
    {
     "name": "stdout",
     "output_type": "stream",
     "text": [
      "14/14 [==============================] - 0s 1ms/step - loss: 0.2733 - accuracy: 0.8995\n"
     ]
    },
    {
     "data": {
      "text/plain": [
       "[0.273267537355423, 0.8995434045791626]"
      ]
     },
     "execution_count": 25,
     "metadata": {},
     "output_type": "execute_result"
    }
   ],
   "source": [
    "model.evaluate(X_test, Y_test)"
   ]
  },
  {
   "cell_type": "markdown",
   "metadata": {},
   "source": [
    "### Visualizing Loss and Accuracy"
   ]
  },
  {
   "cell_type": "code",
   "execution_count": 32,
   "metadata": {},
   "outputs": [
    {
     "data": {
      "image/png": "[encoded data removed]",
      "text/plain": [
       "<Figure size 432x288 with 1 Axes>"
      ]
     },
     "metadata": {
      "needs_background": "light"
     },
     "output_type": "display_data"
    }
   ],
   "source": [
    "import matplotlib.pyplot as plt\n",
    "\n",
    "plt.plot(hist.history['loss'])\n",
    "plt.plot(hist.history['val_loss'])\n",
    "plt.title('Model loss')\n",
    "plt.ylabel('Loss')\n",
    "plt.xlabel('Epoch')\n",
    "plt.legend(['Train', 'Test'], loc='upper right')\n",
    "plt.show()"
   ]
  },
  {
   "cell_type": "markdown",
   "metadata": {},
   "source": [
    "- For the test data the bigger the epoc the smaller the losses"
   ]
  },
  {
   "cell_type": "code",
   "execution_count": 38,
   "metadata": {},
   "outputs": [
    {
     "data": {
      "image/png": "[encoded data removed]",
      "text/plain": [
       "<Figure size 432x288 with 1 Axes>"
      ]
     },
     "metadata": {
      "needs_background": "light"
     },
     "output_type": "display_data"
    }
   ],
   "source": [
    "plt.plot(hist.history['accuracy'])\n",
    "plt.plot(hist.history['val_accuracy'])\n",
    "plt.title('Model accuracy')\n",
    "plt.ylabel('Accuracy')\n",
    "plt.xlabel('Epoch')\n",
    "plt.legend(['Train', 'Test'], loc='lower right')\n",
    "plt.show()"
   ]
  },
  {
   "cell_type": "markdown",
   "metadata": {},
   "source": [
    "- the greater the number of epocs the better the accuracy\n",
    "- up epoc 50 there is a chance of overfitting - the model doesn't rpedict as well as it fits the training data"
   ]
  },
  {
   "cell_type": "markdown",
   "metadata": {},
   "source": [
    "#### Train a model that overfits"
   ]
  },
  {
   "cell_type": "code",
   "execution_count": 41,
   "metadata": {},
   "outputs": [
    {
     "name": "stdout",
     "output_type": "stream",
     "text": [
      "Epoch 1/100\n",
      "32/32 [==============================] - 2s 51ms/step - loss: 0.5499 - accuracy: 0.6986 - val_loss: 0.3433 - val_accuracy: 0.8562\n",
      "Epoch 2/100\n",
      "32/32 [==============================] - 1s 45ms/step - loss: 0.3436 - accuracy: 0.8641 - val_loss: 0.2871 - val_accuracy: 0.8744\n",
      "Epoch 3/100\n",
      "32/32 [==============================] - 1s 45ms/step - loss: 0.3141 - accuracy: 0.8681 - val_loss: 0.2860 - val_accuracy: 0.8927\n",
      "Epoch 4/100\n",
      "32/32 [==============================] - 1s 43ms/step - loss: 0.3019 - accuracy: 0.8826 - val_loss: 0.2299 - val_accuracy: 0.9064\n",
      "Epoch 5/100\n",
      "32/32 [==============================] - 1s 43ms/step - loss: 0.2934 - accuracy: 0.8734 - val_loss: 0.2991 - val_accuracy: 0.8562\n",
      "Epoch 6/100\n",
      "32/32 [==============================] - 1s 42ms/step - loss: 0.2617 - accuracy: 0.8928 - val_loss: 0.2649 - val_accuracy: 0.9087\n",
      "Epoch 7/100\n",
      "32/32 [==============================] - 1s 42ms/step - loss: 0.2485 - accuracy: 0.9137 - val_loss: 0.3612 - val_accuracy: 0.8447\n",
      "Epoch 8/100\n",
      "32/32 [==============================] - 1s 41ms/step - loss: 0.3104 - accuracy: 0.8580 - val_loss: 0.2265 - val_accuracy: 0.9110\n",
      "Epoch 9/100\n",
      "32/32 [==============================] - 1s 45ms/step - loss: 0.2348 - accuracy: 0.8997 - val_loss: 0.2201 - val_accuracy: 0.9087\n",
      "Epoch 10/100\n",
      "32/32 [==============================] - 1s 43ms/step - loss: 0.2338 - accuracy: 0.8958 - val_loss: 0.2126 - val_accuracy: 0.9155\n",
      "Epoch 11/100\n",
      "32/32 [==============================] - 1s 43ms/step - loss: 0.2240 - accuracy: 0.9117 - val_loss: 0.2123 - val_accuracy: 0.9041\n",
      "Epoch 12/100\n",
      "32/32 [==============================] - 1s 41ms/step - loss: 0.2288 - accuracy: 0.8975 - val_loss: 0.2158 - val_accuracy: 0.9110\n",
      "Epoch 13/100\n",
      "32/32 [==============================] - 1s 42ms/step - loss: 0.2012 - accuracy: 0.9228 - val_loss: 0.2265 - val_accuracy: 0.9064\n",
      "Epoch 14/100\n",
      "32/32 [==============================] - 1s 45ms/step - loss: 0.2410 - accuracy: 0.8978 - val_loss: 0.3513 - val_accuracy: 0.8562\n",
      "Epoch 15/100\n",
      "32/32 [==============================] - 1s 43ms/step - loss: 0.2655 - accuracy: 0.8871 - val_loss: 0.2511 - val_accuracy: 0.8858\n",
      "Epoch 16/100\n",
      "32/32 [==============================] - 1s 45ms/step - loss: 0.2534 - accuracy: 0.8815 - val_loss: 0.2151 - val_accuracy: 0.9110\n",
      "Epoch 17/100\n",
      "32/32 [==============================] - 1s 43ms/step - loss: 0.1932 - accuracy: 0.9224 - val_loss: 0.2369 - val_accuracy: 0.8950\n",
      "Epoch 18/100\n",
      "32/32 [==============================] - 1s 43ms/step - loss: 0.2063 - accuracy: 0.9101 - val_loss: 0.2332 - val_accuracy: 0.8950\n",
      "Epoch 19/100\n",
      "32/32 [==============================] - 1s 40ms/step - loss: 0.1995 - accuracy: 0.9223 - val_loss: 0.2292 - val_accuracy: 0.8927\n",
      "Epoch 20/100\n",
      "32/32 [==============================] - 1s 42ms/step - loss: 0.2229 - accuracy: 0.9069 - val_loss: 0.2172 - val_accuracy: 0.9087\n",
      "Epoch 21/100\n",
      "32/32 [==============================] - 1s 43ms/step - loss: 0.2117 - accuracy: 0.9094 - val_loss: 0.2191 - val_accuracy: 0.9064\n",
      "Epoch 22/100\n",
      "32/32 [==============================] - 1s 42ms/step - loss: 0.2108 - accuracy: 0.9066 - val_loss: 0.2355 - val_accuracy: 0.8927\n",
      "Epoch 23/100\n",
      "32/32 [==============================] - 1s 40ms/step - loss: 0.2343 - accuracy: 0.9083 - val_loss: 0.2243 - val_accuracy: 0.9018\n",
      "Epoch 24/100\n",
      "32/32 [==============================] - 1s 44ms/step - loss: 0.2240 - accuracy: 0.9013 - val_loss: 0.2706 - val_accuracy: 0.8836\n",
      "Epoch 25/100\n",
      "32/32 [==============================] - 1s 44ms/step - loss: 0.1877 - accuracy: 0.9237 - val_loss: 0.2226 - val_accuracy: 0.9110\n",
      "Epoch 26/100\n",
      "32/32 [==============================] - 1s 44ms/step - loss: 0.2259 - accuracy: 0.8938 - val_loss: 0.2240 - val_accuracy: 0.9110\n",
      "Epoch 27/100\n",
      "32/32 [==============================] - 1s 42ms/step - loss: 0.1946 - accuracy: 0.9147 - val_loss: 0.2378 - val_accuracy: 0.9110\n",
      "Epoch 28/100\n",
      "32/32 [==============================] - 1s 41ms/step - loss: 0.2064 - accuracy: 0.9150 - val_loss: 0.2254 - val_accuracy: 0.9132\n",
      "Epoch 29/100\n",
      "32/32 [==============================] - 1s 43ms/step - loss: 0.1810 - accuracy: 0.9240 - val_loss: 0.2701 - val_accuracy: 0.8836\n",
      "Epoch 30/100\n",
      "32/32 [==============================] - 1s 45ms/step - loss: 0.1941 - accuracy: 0.9254 - val_loss: 0.2384 - val_accuracy: 0.9041\n",
      "Epoch 31/100\n",
      "32/32 [==============================] - 1s 44ms/step - loss: 0.1846 - accuracy: 0.9240 - val_loss: 0.2313 - val_accuracy: 0.9155\n",
      "Epoch 32/100\n",
      "32/32 [==============================] - 1s 42ms/step - loss: 0.1705 - accuracy: 0.9112 - val_loss: 0.2809 - val_accuracy: 0.9018\n",
      "Epoch 33/100\n",
      "32/32 [==============================] - 1s 42ms/step - loss: 0.1638 - accuracy: 0.9329 - val_loss: 0.2239 - val_accuracy: 0.9110\n",
      "Epoch 34/100\n",
      "32/32 [==============================] - 1s 43ms/step - loss: 0.1828 - accuracy: 0.9147 - val_loss: 0.2293 - val_accuracy: 0.9064\n",
      "Epoch 35/100\n",
      "32/32 [==============================] - 1s 45ms/step - loss: 0.1703 - accuracy: 0.9326 - val_loss: 0.2828 - val_accuracy: 0.8927\n",
      "Epoch 36/100\n",
      "32/32 [==============================] - 1s 44ms/step - loss: 0.1821 - accuracy: 0.9250 - val_loss: 0.2820 - val_accuracy: 0.8927\n",
      "Epoch 37/100\n",
      "32/32 [==============================] - 1s 46ms/step - loss: 0.1736 - accuracy: 0.9214 - val_loss: 0.2566 - val_accuracy: 0.8995\n",
      "Epoch 38/100\n",
      "32/32 [==============================] - 2s 49ms/step - loss: 0.2148 - accuracy: 0.9118 - val_loss: 0.2267 - val_accuracy: 0.9132\n",
      "Epoch 39/100\n",
      "32/32 [==============================] - 1s 45ms/step - loss: 0.2320 - accuracy: 0.8927 - val_loss: 0.2326 - val_accuracy: 0.9155\n",
      "Epoch 40/100\n",
      "32/32 [==============================] - 1s 47ms/step - loss: 0.2132 - accuracy: 0.8934 - val_loss: 0.2456 - val_accuracy: 0.9087\n",
      "Epoch 41/100\n",
      "32/32 [==============================] - 1s 46ms/step - loss: 0.1877 - accuracy: 0.9179 - val_loss: 0.2723 - val_accuracy: 0.8767\n",
      "Epoch 42/100\n",
      "32/32 [==============================] - 1s 46ms/step - loss: 0.1958 - accuracy: 0.9138 - val_loss: 0.2987 - val_accuracy: 0.8836\n",
      "Epoch 43/100\n",
      "32/32 [==============================] - 1s 46ms/step - loss: 0.1786 - accuracy: 0.9242 - val_loss: 0.2546 - val_accuracy: 0.8973\n",
      "Epoch 44/100\n",
      "32/32 [==============================] - 2s 48ms/step - loss: 0.1728 - accuracy: 0.9256 - val_loss: 0.2414 - val_accuracy: 0.8927\n",
      "Epoch 45/100\n",
      "32/32 [==============================] - 2s 48ms/step - loss: 0.1570 - accuracy: 0.9371 - val_loss: 0.2400 - val_accuracy: 0.8927\n",
      "Epoch 46/100\n",
      "32/32 [==============================] - 2s 47ms/step - loss: 0.1531 - accuracy: 0.9367 - val_loss: 0.2414 - val_accuracy: 0.9087\n",
      "Epoch 47/100\n",
      "32/32 [==============================] - 1s 45ms/step - loss: 0.1792 - accuracy: 0.9272 - val_loss: 0.2675 - val_accuracy: 0.8995\n",
      "Epoch 48/100\n",
      "32/32 [==============================] - 1s 46ms/step - loss: 0.1808 - accuracy: 0.9206 - val_loss: 0.2888 - val_accuracy: 0.8813\n",
      "Epoch 49/100\n",
      "32/32 [==============================] - 1s 45ms/step - loss: 0.1908 - accuracy: 0.9260 - val_loss: 0.2701 - val_accuracy: 0.9155\n",
      "Epoch 50/100\n",
      "32/32 [==============================] - 1s 45ms/step - loss: 0.1663 - accuracy: 0.9231 - val_loss: 0.3102 - val_accuracy: 0.8858\n",
      "Epoch 51/100\n",
      "32/32 [==============================] - 2s 49ms/step - loss: 0.1672 - accuracy: 0.9188 - val_loss: 0.2713 - val_accuracy: 0.9064\n",
      "Epoch 52/100\n",
      "32/32 [==============================] - 2s 49ms/step - loss: 0.1618 - accuracy: 0.9279 - val_loss: 0.2852 - val_accuracy: 0.9041\n",
      "Epoch 53/100\n",
      "32/32 [==============================] - 2s 48ms/step - loss: 0.1514 - accuracy: 0.9353 - val_loss: 0.3082 - val_accuracy: 0.9132\n",
      "Epoch 54/100\n",
      "32/32 [==============================] - 2s 48ms/step - loss: 0.1656 - accuracy: 0.9388 - val_loss: 0.3433 - val_accuracy: 0.8995\n",
      "Epoch 55/100\n",
      "32/32 [==============================] - 1s 46ms/step - loss: 0.1736 - accuracy: 0.9305 - val_loss: 0.3101 - val_accuracy: 0.9041\n",
      "Epoch 56/100\n",
      "32/32 [==============================] - 2s 47ms/step - loss: 0.1527 - accuracy: 0.9263 - val_loss: 0.3037 - val_accuracy: 0.9064\n",
      "Epoch 57/100\n",
      "32/32 [==============================] - 1s 47ms/step - loss: 0.1424 - accuracy: 0.9395 - val_loss: 0.2930 - val_accuracy: 0.9018\n",
      "Epoch 58/100\n",
      "32/32 [==============================] - 2s 47ms/step - loss: 0.1392 - accuracy: 0.9443 - val_loss: 0.3065 - val_accuracy: 0.9087\n",
      "Epoch 59/100\n",
      "32/32 [==============================] - 2s 47ms/step - loss: 0.1791 - accuracy: 0.9272 - val_loss: 0.3447 - val_accuracy: 0.8858\n",
      "Epoch 60/100\n",
      "32/32 [==============================] - 1s 47ms/step - loss: 0.1500 - accuracy: 0.9369 - val_loss: 0.2883 - val_accuracy: 0.9110\n",
      "Epoch 61/100\n",
      "32/32 [==============================] - 1s 46ms/step - loss: 0.1717 - accuracy: 0.9315 - val_loss: 0.2756 - val_accuracy: 0.9041\n",
      "Epoch 62/100\n",
      "32/32 [==============================] - 1s 46ms/step - loss: 0.1457 - accuracy: 0.9326 - val_loss: 0.3501 - val_accuracy: 0.9018\n",
      "Epoch 63/100\n",
      "32/32 [==============================] - 1s 45ms/step - loss: 0.1556 - accuracy: 0.9321 - val_loss: 0.3090 - val_accuracy: 0.9110\n",
      "Epoch 64/100\n",
      "32/32 [==============================] - 1s 46ms/step - loss: 0.1880 - accuracy: 0.9163 - val_loss: 0.3876 - val_accuracy: 0.8973\n",
      "Epoch 65/100\n",
      "32/32 [==============================] - 2s 48ms/step - loss: 0.1347 - accuracy: 0.9514 - val_loss: 0.3437 - val_accuracy: 0.9041\n",
      "Epoch 66/100\n",
      "32/32 [==============================] - 1s 47ms/step - loss: 0.1871 - accuracy: 0.9202 - val_loss: 0.2688 - val_accuracy: 0.9155\n",
      "Epoch 67/100\n",
      "32/32 [==============================] - 1s 46ms/step - loss: 0.1710 - accuracy: 0.9222 - val_loss: 0.3222 - val_accuracy: 0.8927\n",
      "Epoch 68/100\n",
      "32/32 [==============================] - 1s 47ms/step - loss: 0.1652 - accuracy: 0.9196 - val_loss: 0.2959 - val_accuracy: 0.8995\n",
      "Epoch 69/100\n",
      "32/32 [==============================] - 1s 47ms/step - loss: 0.1321 - accuracy: 0.9519 - val_loss: 0.2713 - val_accuracy: 0.9155\n",
      "Epoch 70/100\n",
      "32/32 [==============================] - 1s 44ms/step - loss: 0.1298 - accuracy: 0.9502 - val_loss: 0.3453 - val_accuracy: 0.9041\n",
      "Epoch 71/100\n",
      "32/32 [==============================] - 1s 44ms/step - loss: 0.1193 - accuracy: 0.9474 - val_loss: 0.3914 - val_accuracy: 0.8950\n",
      "Epoch 72/100\n",
      "32/32 [==============================] - 1s 38ms/step - loss: 0.1393 - accuracy: 0.9276 - val_loss: 0.3248 - val_accuracy: 0.8836\n",
      "Epoch 73/100\n",
      "32/32 [==============================] - 1s 35ms/step - loss: 0.1294 - accuracy: 0.9370 - val_loss: 0.4302 - val_accuracy: 0.8676\n",
      "Epoch 74/100\n",
      "32/32 [==============================] - 1s 35ms/step - loss: 0.1604 - accuracy: 0.9185 - val_loss: 0.4199 - val_accuracy: 0.8881\n",
      "Epoch 75/100\n",
      "32/32 [==============================] - 1s 36ms/step - loss: 0.1380 - accuracy: 0.9358 - val_loss: 0.3395 - val_accuracy: 0.9110\n",
      "Epoch 76/100\n",
      "32/32 [==============================] - 1s 36ms/step - loss: 0.1403 - accuracy: 0.9383 - val_loss: 0.3034 - val_accuracy: 0.9064\n",
      "Epoch 77/100\n",
      "32/32 [==============================] - 1s 36ms/step - loss: 0.1631 - accuracy: 0.9354 - val_loss: 0.3394 - val_accuracy: 0.9201\n",
      "Epoch 78/100\n",
      "32/32 [==============================] - 1s 35ms/step - loss: 0.1176 - accuracy: 0.9542 - val_loss: 0.3556 - val_accuracy: 0.9110\n",
      "Epoch 79/100\n",
      "32/32 [==============================] - 1s 35ms/step - loss: 0.1139 - accuracy: 0.9546 - val_loss: 0.3918 - val_accuracy: 0.8721\n",
      "Epoch 80/100\n",
      "32/32 [==============================] - 1s 37ms/step - loss: 0.1226 - accuracy: 0.9531 - val_loss: 0.3273 - val_accuracy: 0.8927\n",
      "Epoch 81/100\n",
      "32/32 [==============================] - 1s 36ms/step - loss: 0.1366 - accuracy: 0.9415 - val_loss: 0.3464 - val_accuracy: 0.8973\n",
      "Epoch 82/100\n",
      "32/32 [==============================] - 1s 36ms/step - loss: 0.1152 - accuracy: 0.9575 - val_loss: 0.4699 - val_accuracy: 0.9018\n",
      "Epoch 83/100\n",
      "32/32 [==============================] - 1s 36ms/step - loss: 0.1601 - accuracy: 0.9264 - val_loss: 0.3338 - val_accuracy: 0.9087\n",
      "Epoch 84/100\n",
      "32/32 [==============================] - 1s 35ms/step - loss: 0.1297 - accuracy: 0.9511 - val_loss: 0.4019 - val_accuracy: 0.8973\n",
      "Epoch 85/100\n",
      "32/32 [==============================] - 1s 38ms/step - loss: 0.1399 - accuracy: 0.9377 - val_loss: 0.4078 - val_accuracy: 0.8904\n",
      "Epoch 86/100\n",
      "32/32 [==============================] - 1s 33ms/step - loss: 0.1329 - accuracy: 0.9453 - val_loss: 0.3454 - val_accuracy: 0.8927\n",
      "Epoch 87/100\n",
      "32/32 [==============================] - 1s 31ms/step - loss: 0.1136 - accuracy: 0.9614 - val_loss: 0.4292 - val_accuracy: 0.8995\n",
      "Epoch 88/100\n",
      "32/32 [==============================] - 1s 36ms/step - loss: 0.1094 - accuracy: 0.9463 - val_loss: 0.5619 - val_accuracy: 0.8836\n",
      "Epoch 89/100\n",
      "32/32 [==============================] - 1s 35ms/step - loss: 0.1247 - accuracy: 0.9458 - val_loss: 0.3857 - val_accuracy: 0.8995\n",
      "Epoch 90/100\n",
      "32/32 [==============================] - 1s 35ms/step - loss: 0.1523 - accuracy: 0.9392 - val_loss: 0.4069 - val_accuracy: 0.9087\n",
      "Epoch 91/100\n",
      "32/32 [==============================] - 1s 37ms/step - loss: 0.1036 - accuracy: 0.9564 - val_loss: 0.4125 - val_accuracy: 0.8927\n",
      "Epoch 92/100\n",
      "32/32 [==============================] - 1s 36ms/step - loss: 0.1047 - accuracy: 0.9548 - val_loss: 0.3981 - val_accuracy: 0.9018\n",
      "Epoch 93/100\n",
      "32/32 [==============================] - 1s 36ms/step - loss: 0.1265 - accuracy: 0.9359 - val_loss: 0.4133 - val_accuracy: 0.8927\n",
      "Epoch 94/100\n",
      "32/32 [==============================] - 1s 36ms/step - loss: 0.0999 - accuracy: 0.9572 - val_loss: 0.5135 - val_accuracy: 0.8881\n",
      "Epoch 95/100\n",
      "32/32 [==============================] - 1s 36ms/step - loss: 0.1015 - accuracy: 0.9626 - val_loss: 0.4478 - val_accuracy: 0.8950\n",
      "Epoch 96/100\n",
      "32/32 [==============================] - 1s 37ms/step - loss: 0.0833 - accuracy: 0.9637 - val_loss: 0.5297 - val_accuracy: 0.8995\n",
      "Epoch 97/100\n",
      "32/32 [==============================] - 1s 36ms/step - loss: 0.0776 - accuracy: 0.9701 - val_loss: 0.5652 - val_accuracy: 0.8858\n",
      "Epoch 98/100\n",
      "32/32 [==============================] - 1s 37ms/step - loss: 0.0817 - accuracy: 0.9609 - val_loss: 0.5792 - val_accuracy: 0.8836\n",
      "Epoch 99/100\n",
      "32/32 [==============================] - 1s 36ms/step - loss: 0.1173 - accuracy: 0.9471 - val_loss: 0.3874 - val_accuracy: 0.8904\n",
      "Epoch 100/100\n",
      "32/32 [==============================] - 1s 36ms/step - loss: 0.1198 - accuracy: 0.9467 - val_loss: 0.4108 - val_accuracy: 0.8904\n"
     ]
    }
   ],
   "source": [
    "model_2 = Sequential()\n",
    "model_2.add(Dense(1000, activation='relu', input_shape=(10,)))\n",
    "model_2.add(Dense(1000, activation='relu'))\n",
    "model_2.add(Dense(1000, activation='relu'))\n",
    "model_2.add(Dense(1000, activation='relu'))\n",
    "model_2.add(Dense(1, activation='sigmoid'))\n",
    "    \n",
    "model_2.compile(optimizer='adam', # adds some tweaks to stochastic gradient descent such that it reaches the lower loss function faster\n",
    "              loss='binary_crossentropy',\n",
    "              metrics=['accuracy'])\n",
    "\n",
    "hist_2 = model_2.fit(X_train, Y_train,\n",
    "          batch_size=32, epochs=100,\n",
    "          validation_data=(X_test, Y_test))"
   ]
  },
  {
   "cell_type": "code",
   "execution_count": 42,
   "metadata": {},
   "outputs": [
    {
     "data": {
      "image/png": "[encoded data removed]",
      "text/plain": [
       "<Figure size 432x288 with 1 Axes>"
      ]
     },
     "metadata": {
      "needs_background": "light"
     },
     "output_type": "display_data"
    }
   ],
   "source": [
    "plt.plot(hist_2.history['loss'])\n",
    "plt.plot(hist_2.history['val_loss'])\n",
    "plt.title('Model loss')\n",
    "plt.ylabel('Loss')\n",
    "plt.xlabel('Epoch')\n",
    "plt.legend(['Train', 'Test'], loc='upper right')\n",
    "plt.show()"
   ]
  },
  {
   "cell_type": "markdown",
   "metadata": {},
   "source": [
    "- a clear sign of over-fitting - our modl is too dependent on the training dataset\n",
    "- the training loss is decreasing but the test loss is higher and inreasing"
   ]
  },
  {
   "cell_type": "code",
   "execution_count": 45,
   "metadata": {},
   "outputs": [
    {
     "data": {
      "image/png": "[encoded data removed]",
      "text/plain": [
       "<Figure size 432x288 with 1 Axes>"
      ]
     },
     "metadata": {
      "needs_background": "light"
     },
     "output_type": "display_data"
    }
   ],
   "source": [
    "plt.plot(hist_2.history['accuracy'])\n",
    "plt.plot(hist_2.history['val_accuracy'])\n",
    "plt.title('Model accuracy')\n",
    "plt.ylabel('Accuracy')\n",
    "plt.xlabel('Epoch')\n",
    "plt.legend(['Train', 'Test'], loc='lower right')\n",
    "plt.show()"
   ]
  },
  {
   "cell_type": "markdown",
   "metadata": {},
   "source": [
    "#### Add a regulatization to address the over-fitting\n",
    "https://www.machinecurve.com/index.php/2019/12/16/what-is-dropout-reduce-overfitting-in-your-neural-networks/#what-is-dropout-and-how-does-it-work <br> https://towardsdatascience.com/impact-of-regularization-on-deep-neural-networks-1306c839d923\n",
    "\n",
    "- **kernel-regularization** - penalizes the weights (int he cost function) which are very large causing the network to overfit, after applying kernel_regularizer the weights will become smaller\n",
    "- L2 loss is defined as $w^2$\n",
    "- The gradient of L2 will be: 2w - Thus, for each gradient update with a learning rate a, in L2 loss, the weights will be subtracted by  aW\n",
    "- **drop out** - based ona  probability drop out neurons from the original network so they cannot contribute to the learning process\n",
    "- assign ‘p’ to represent the probability of a neuron, in the hidden layer, being excluded from the network\n"
   ]
  },
  {
   "cell_type": "code",
   "execution_count": 46,
   "metadata": {},
   "outputs": [],
   "source": [
    "from tensorflow.keras.layers import Dropout\n",
    "from tensorflow.keras import regularizers"
   ]
  },
  {
   "cell_type": "code",
   "execution_count": 47,
   "metadata": {},
   "outputs": [],
   "source": [
    "model_3 = Sequential([\n",
    "    # the squared values of w in our overall loss function, and weight them by a weighting parameter 0.01\n",
    "    Dense(1000, activation='relu', kernel_regularizer=regularizers.l2(0.01), input_shape=(10,)),\n",
    "    # the neurons in the previous layer has a probability of 0.3 in dropping out during training\n",
    "    Dropout(0.3),\n",
    "    Dense(1000, activation='relu', kernel_regularizer=regularizers.l2(0.01)),\n",
    "    Dropout(0.3),\n",
    "    Dense(1000, activation='relu', kernel_regularizer=regularizers.l2(0.01)),\n",
    "    Dropout(0.3),\n",
    "    Dense(1000, activation='relu', kernel_regularizer=regularizers.l2(0.01)),\n",
    "    Dropout(0.3),\n",
    "    Dense(1, activation='sigmoid', kernel_regularizer=regularizers.l2(0.01)),\n",
    "])"
   ]
  },
  {
   "cell_type": "code",
   "execution_count": 48,
   "metadata": {},
   "outputs": [
    {
     "name": "stdout",
     "output_type": "stream",
     "text": [
      "Epoch 1/100\n",
      "32/32 [==============================] - 3s 81ms/step - loss: 21.1273 - accuracy: 0.5331 - val_loss: 3.8819 - val_accuracy: 0.7740\n",
      "Epoch 2/100\n",
      "32/32 [==============================] - 2s 76ms/step - loss: 2.4875 - accuracy: 0.8378 - val_loss: 0.6749 - val_accuracy: 0.8584\n",
      "Epoch 3/100\n",
      "32/32 [==============================] - 2s 73ms/step - loss: 0.6120 - accuracy: 0.8623 - val_loss: 0.4995 - val_accuracy: 0.8813\n",
      "Epoch 4/100\n",
      "32/32 [==============================] - 2s 74ms/step - loss: 0.5205 - accuracy: 0.8704 - val_loss: 0.5328 - val_accuracy: 0.8356\n",
      "Epoch 5/100\n",
      "32/32 [==============================] - 2s 75ms/step - loss: 0.5158 - accuracy: 0.8651 - val_loss: 0.4491 - val_accuracy: 0.8973\n",
      "Epoch 6/100\n",
      "32/32 [==============================] - 2s 74ms/step - loss: 0.4949 - accuracy: 0.8584 - val_loss: 0.5907 - val_accuracy: 0.8014\n",
      "Epoch 7/100\n",
      "32/32 [==============================] - 2s 77ms/step - loss: 0.5251 - accuracy: 0.8395 - val_loss: 0.4575 - val_accuracy: 0.8813\n",
      "Epoch 8/100\n",
      "32/32 [==============================] - 2s 74ms/step - loss: 0.5003 - accuracy: 0.8649 - val_loss: 0.4555 - val_accuracy: 0.8790\n",
      "Epoch 9/100\n",
      "32/32 [==============================] - 2s 71ms/step - loss: 0.4721 - accuracy: 0.8835 - val_loss: 0.4317 - val_accuracy: 0.9132\n",
      "Epoch 10/100\n",
      "32/32 [==============================] - 2s 69ms/step - loss: 0.4800 - accuracy: 0.8764 - val_loss: 0.4686 - val_accuracy: 0.8790\n",
      "Epoch 11/100\n",
      "32/32 [==============================] - 2s 68ms/step - loss: 0.4600 - accuracy: 0.8765 - val_loss: 0.4131 - val_accuracy: 0.9178\n",
      "Epoch 12/100\n",
      "32/32 [==============================] - 2s 62ms/step - loss: 0.5003 - accuracy: 0.8591 - val_loss: 0.4126 - val_accuracy: 0.9110\n",
      "Epoch 13/100\n",
      "32/32 [==============================] - 2s 50ms/step - loss: 0.4450 - accuracy: 0.8753 - val_loss: 0.4182 - val_accuracy: 0.9041\n",
      "Epoch 14/100\n",
      "32/32 [==============================] - 2s 50ms/step - loss: 0.4798 - accuracy: 0.8546 - val_loss: 0.4220 - val_accuracy: 0.8995\n",
      "Epoch 15/100\n",
      "32/32 [==============================] - 2s 54ms/step - loss: 0.4570 - accuracy: 0.8830 - val_loss: 0.4489 - val_accuracy: 0.8653\n",
      "Epoch 16/100\n",
      "32/32 [==============================] - 2s 52ms/step - loss: 0.4395 - accuracy: 0.8770 - val_loss: 0.4322 - val_accuracy: 0.8790\n",
      "Epoch 17/100\n",
      "32/32 [==============================] - 2s 52ms/step - loss: 0.4761 - accuracy: 0.8732 - val_loss: 0.4640 - val_accuracy: 0.8562\n",
      "Epoch 18/100\n",
      "32/32 [==============================] - 2s 52ms/step - loss: 0.4772 - accuracy: 0.8630 - val_loss: 0.4912 - val_accuracy: 0.8470\n",
      "Epoch 19/100\n",
      "32/32 [==============================] - 2s 53ms/step - loss: 0.5373 - accuracy: 0.8286 - val_loss: 0.4077 - val_accuracy: 0.9155\n",
      "Epoch 20/100\n",
      "32/32 [==============================] - 2s 58ms/step - loss: 0.4593 - accuracy: 0.8723 - val_loss: 0.4235 - val_accuracy: 0.8881\n",
      "Epoch 21/100\n",
      "32/32 [==============================] - 2s 56ms/step - loss: 0.4577 - accuracy: 0.8826 - val_loss: 0.4014 - val_accuracy: 0.9178\n",
      "Epoch 22/100\n",
      "32/32 [==============================] - 2s 56ms/step - loss: 0.4718 - accuracy: 0.8552 - val_loss: 0.4105 - val_accuracy: 0.9064\n",
      "Epoch 23/100\n",
      "32/32 [==============================] - 2s 55ms/step - loss: 0.4588 - accuracy: 0.8746 - val_loss: 0.4031 - val_accuracy: 0.9155\n",
      "Epoch 24/100\n",
      "32/32 [==============================] - 2s 54ms/step - loss: 0.4317 - accuracy: 0.8771 - val_loss: 0.4191 - val_accuracy: 0.9064\n",
      "Epoch 25/100\n",
      "32/32 [==============================] - 2s 53ms/step - loss: 0.4814 - accuracy: 0.8768 - val_loss: 0.4062 - val_accuracy: 0.9155\n",
      "Epoch 26/100\n",
      "32/32 [==============================] - 2s 56ms/step - loss: 0.4385 - accuracy: 0.8839 - val_loss: 0.4120 - val_accuracy: 0.9064\n",
      "Epoch 27/100\n",
      "32/32 [==============================] - 2s 59ms/step - loss: 0.4383 - accuracy: 0.8756 - val_loss: 0.3997 - val_accuracy: 0.9201\n",
      "Epoch 28/100\n",
      "32/32 [==============================] - 2s 55ms/step - loss: 0.4472 - accuracy: 0.8851 - val_loss: 0.4048 - val_accuracy: 0.9155\n",
      "Epoch 29/100\n",
      "32/32 [==============================] - 2s 56ms/step - loss: 0.4549 - accuracy: 0.8756 - val_loss: 0.4144 - val_accuracy: 0.8836\n",
      "Epoch 30/100\n",
      "32/32 [==============================] - 2s 56ms/step - loss: 0.4693 - accuracy: 0.8656 - val_loss: 0.4295 - val_accuracy: 0.8767\n",
      "Epoch 31/100\n",
      "32/32 [==============================] - 2s 54ms/step - loss: 0.4379 - accuracy: 0.8748 - val_loss: 0.3965 - val_accuracy: 0.9155\n",
      "Epoch 32/100\n",
      "32/32 [==============================] - 2s 59ms/step - loss: 0.4186 - accuracy: 0.8903 - val_loss: 0.4153 - val_accuracy: 0.9132\n",
      "Epoch 33/100\n",
      "32/32 [==============================] - 2s 52ms/step - loss: 0.4435 - accuracy: 0.8794 - val_loss: 0.4063 - val_accuracy: 0.9110\n",
      "Epoch 34/100\n",
      "32/32 [==============================] - 2s 58ms/step - loss: 0.4099 - accuracy: 0.8937 - val_loss: 0.4455 - val_accuracy: 0.8744\n",
      "Epoch 35/100\n",
      "32/32 [==============================] - 2s 56ms/step - loss: 0.4385 - accuracy: 0.8805 - val_loss: 0.4189 - val_accuracy: 0.9087\n",
      "Epoch 36/100\n",
      "32/32 [==============================] - 2s 55ms/step - loss: 0.4605 - accuracy: 0.8705 - val_loss: 0.4001 - val_accuracy: 0.9132\n",
      "Epoch 37/100\n",
      "32/32 [==============================] - 2s 57ms/step - loss: 0.4639 - accuracy: 0.8860 - val_loss: 0.4411 - val_accuracy: 0.8584\n",
      "Epoch 38/100\n",
      "32/32 [==============================] - 2s 56ms/step - loss: 0.4510 - accuracy: 0.8793 - val_loss: 0.3961 - val_accuracy: 0.9178\n",
      "Epoch 39/100\n",
      "32/32 [==============================] - 2s 56ms/step - loss: 0.4590 - accuracy: 0.8806 - val_loss: 0.4162 - val_accuracy: 0.9018\n",
      "Epoch 40/100\n",
      "32/32 [==============================] - 2s 60ms/step - loss: 0.4679 - accuracy: 0.8810 - val_loss: 0.4253 - val_accuracy: 0.8767\n",
      "Epoch 41/100\n",
      "32/32 [==============================] - 2s 52ms/step - loss: 0.4459 - accuracy: 0.8692 - val_loss: 0.4563 - val_accuracy: 0.8493\n",
      "Epoch 42/100\n",
      "32/32 [==============================] - 2s 53ms/step - loss: 0.4501 - accuracy: 0.8827 - val_loss: 0.4303 - val_accuracy: 0.8676\n",
      "Epoch 43/100\n",
      "32/32 [==============================] - 2s 51ms/step - loss: 0.4459 - accuracy: 0.8765 - val_loss: 0.3950 - val_accuracy: 0.9224\n",
      "Epoch 44/100\n",
      "32/32 [==============================] - 2s 65ms/step - loss: 0.4296 - accuracy: 0.8974 - val_loss: 0.4173 - val_accuracy: 0.8973\n",
      "Epoch 45/100\n",
      "32/32 [==============================] - 2s 71ms/step - loss: 0.4314 - accuracy: 0.8864 - val_loss: 0.3988 - val_accuracy: 0.9224\n",
      "Epoch 46/100\n",
      "32/32 [==============================] - 2s 57ms/step - loss: 0.4517 - accuracy: 0.8755 - val_loss: 0.4010 - val_accuracy: 0.9041\n",
      "Epoch 47/100\n",
      "32/32 [==============================] - 2s 54ms/step - loss: 0.4510 - accuracy: 0.8641 - val_loss: 0.3935 - val_accuracy: 0.9201\n",
      "Epoch 48/100\n",
      "32/32 [==============================] - 2s 57ms/step - loss: 0.4091 - accuracy: 0.8939 - val_loss: 0.4050 - val_accuracy: 0.8904\n",
      "Epoch 49/100\n",
      "32/32 [==============================] - 2s 55ms/step - loss: 0.4496 - accuracy: 0.8810 - val_loss: 0.4197 - val_accuracy: 0.8790\n",
      "Epoch 50/100\n",
      "32/32 [==============================] - 2s 56ms/step - loss: 0.4559 - accuracy: 0.8717 - val_loss: 0.4162 - val_accuracy: 0.8950\n",
      "Epoch 51/100\n",
      "32/32 [==============================] - 2s 56ms/step - loss: 0.4471 - accuracy: 0.8885 - val_loss: 0.4407 - val_accuracy: 0.8676\n",
      "Epoch 52/100\n",
      "32/32 [==============================] - 2s 56ms/step - loss: 0.4655 - accuracy: 0.8612 - val_loss: 0.3925 - val_accuracy: 0.9178\n",
      "Epoch 53/100\n",
      "32/32 [==============================] - 2s 65ms/step - loss: 0.4192 - accuracy: 0.8839 - val_loss: 0.4214 - val_accuracy: 0.8699\n",
      "Epoch 54/100\n",
      "32/32 [==============================] - 2s 60ms/step - loss: 0.4346 - accuracy: 0.8746 - val_loss: 0.4027 - val_accuracy: 0.9018\n",
      "Epoch 55/100\n",
      "32/32 [==============================] - 2s 51ms/step - loss: 0.4569 - accuracy: 0.8818 - val_loss: 0.4242 - val_accuracy: 0.8927\n",
      "Epoch 56/100\n",
      "32/32 [==============================] - 2s 53ms/step - loss: 0.4717 - accuracy: 0.8714 - val_loss: 0.4138 - val_accuracy: 0.8858\n",
      "Epoch 57/100\n",
      "32/32 [==============================] - 2s 54ms/step - loss: 0.4437 - accuracy: 0.8707 - val_loss: 0.3987 - val_accuracy: 0.8995\n",
      "Epoch 58/100\n",
      "32/32 [==============================] - 2s 52ms/step - loss: 0.4547 - accuracy: 0.8693 - val_loss: 0.4161 - val_accuracy: 0.8836\n",
      "Epoch 59/100\n",
      "32/32 [==============================] - 2s 60ms/step - loss: 0.4354 - accuracy: 0.8787 - val_loss: 0.4157 - val_accuracy: 0.8767\n",
      "Epoch 60/100\n",
      "32/32 [==============================] - 2s 58ms/step - loss: 0.4570 - accuracy: 0.8522 - val_loss: 0.3989 - val_accuracy: 0.9132\n",
      "Epoch 61/100\n",
      "32/32 [==============================] - 2s 64ms/step - loss: 0.4829 - accuracy: 0.8624 - val_loss: 0.3962 - val_accuracy: 0.9201\n",
      "Epoch 62/100\n",
      "32/32 [==============================] - 2s 72ms/step - loss: 0.4477 - accuracy: 0.8802 - val_loss: 0.4013 - val_accuracy: 0.9087\n",
      "Epoch 63/100\n",
      "32/32 [==============================] - 2s 72ms/step - loss: 0.4329 - accuracy: 0.8747 - val_loss: 0.4001 - val_accuracy: 0.9087\n",
      "Epoch 64/100\n",
      "32/32 [==============================] - 2s 68ms/step - loss: 0.4573 - accuracy: 0.8698 - val_loss: 0.4104 - val_accuracy: 0.9018\n",
      "Epoch 65/100\n",
      "32/32 [==============================] - 2s 71ms/step - loss: 0.4608 - accuracy: 0.8692 - val_loss: 0.4371 - val_accuracy: 0.8836\n",
      "Epoch 66/100\n",
      "32/32 [==============================] - 2s 69ms/step - loss: 0.4499 - accuracy: 0.8797 - val_loss: 0.4088 - val_accuracy: 0.9132\n",
      "Epoch 67/100\n",
      "32/32 [==============================] - 2s 68ms/step - loss: 0.4598 - accuracy: 0.8495 - val_loss: 0.4276 - val_accuracy: 0.8904\n",
      "Epoch 68/100\n",
      "32/32 [==============================] - 2s 72ms/step - loss: 0.4302 - accuracy: 0.8716 - val_loss: 0.3948 - val_accuracy: 0.9224\n",
      "Epoch 69/100\n",
      "32/32 [==============================] - 2s 78ms/step - loss: 0.4325 - accuracy: 0.8807 - val_loss: 0.3932 - val_accuracy: 0.9155\n",
      "Epoch 70/100\n",
      "32/32 [==============================] - 3s 79ms/step - loss: 0.4645 - accuracy: 0.8669 - val_loss: 0.4001 - val_accuracy: 0.9155\n",
      "Epoch 71/100\n",
      "32/32 [==============================] - 2s 74ms/step - loss: 0.4483 - accuracy: 0.8682 - val_loss: 0.4041 - val_accuracy: 0.8904\n",
      "Epoch 72/100\n",
      "32/32 [==============================] - 2s 76ms/step - loss: 0.4414 - accuracy: 0.8791 - val_loss: 0.3943 - val_accuracy: 0.9064\n",
      "Epoch 73/100\n",
      "32/32 [==============================] - 2s 73ms/step - loss: 0.4533 - accuracy: 0.8640 - val_loss: 0.3943 - val_accuracy: 0.9178\n",
      "Epoch 74/100\n",
      "32/32 [==============================] - 2s 74ms/step - loss: 0.4382 - accuracy: 0.8752 - val_loss: 0.4347 - val_accuracy: 0.8607\n",
      "Epoch 75/100\n",
      "32/32 [==============================] - 2s 73ms/step - loss: 0.4367 - accuracy: 0.8766 - val_loss: 0.4478 - val_accuracy: 0.8584\n",
      "Epoch 76/100\n",
      "32/32 [==============================] - 2s 72ms/step - loss: 0.4440 - accuracy: 0.8701 - val_loss: 0.4072 - val_accuracy: 0.9110\n",
      "Epoch 77/100\n",
      "32/32 [==============================] - 2s 74ms/step - loss: 0.4573 - accuracy: 0.8579 - val_loss: 0.3930 - val_accuracy: 0.9178\n",
      "Epoch 78/100\n",
      "32/32 [==============================] - 2s 75ms/step - loss: 0.4149 - accuracy: 0.8845 - val_loss: 0.4004 - val_accuracy: 0.9132\n",
      "Epoch 79/100\n",
      "32/32 [==============================] - 2s 72ms/step - loss: 0.4287 - accuracy: 0.8871 - val_loss: 0.3996 - val_accuracy: 0.9178\n",
      "Epoch 80/100\n",
      "32/32 [==============================] - 2s 77ms/step - loss: 0.4441 - accuracy: 0.8847 - val_loss: 0.3937 - val_accuracy: 0.9224\n",
      "Epoch 81/100\n",
      "32/32 [==============================] - 2s 75ms/step - loss: 0.4483 - accuracy: 0.8826 - val_loss: 0.3970 - val_accuracy: 0.9224\n",
      "Epoch 82/100\n",
      "32/32 [==============================] - 2s 78ms/step - loss: 0.4296 - accuracy: 0.8872 - val_loss: 0.4045 - val_accuracy: 0.9178\n",
      "Epoch 83/100\n",
      "32/32 [==============================] - 2s 74ms/step - loss: 0.4665 - accuracy: 0.8576 - val_loss: 0.3923 - val_accuracy: 0.9064\n",
      "Epoch 84/100\n",
      "32/32 [==============================] - 2s 73ms/step - loss: 0.4397 - accuracy: 0.8737 - val_loss: 0.3980 - val_accuracy: 0.9110\n",
      "Epoch 85/100\n",
      "32/32 [==============================] - 2s 73ms/step - loss: 0.4274 - accuracy: 0.8816 - val_loss: 0.4802 - val_accuracy: 0.8493\n",
      "Epoch 86/100\n",
      "32/32 [==============================] - 2s 74ms/step - loss: 0.4818 - accuracy: 0.8504 - val_loss: 0.4033 - val_accuracy: 0.9110\n",
      "Epoch 87/100\n",
      "32/32 [==============================] - 2s 73ms/step - loss: 0.4407 - accuracy: 0.8745 - val_loss: 0.3935 - val_accuracy: 0.9132\n",
      "Epoch 88/100\n",
      "32/32 [==============================] - 2s 73ms/step - loss: 0.4336 - accuracy: 0.8850 - val_loss: 0.4782 - val_accuracy: 0.8379\n",
      "Epoch 89/100\n",
      "32/32 [==============================] - 2s 73ms/step - loss: 0.4353 - accuracy: 0.8805 - val_loss: 0.3931 - val_accuracy: 0.9155\n",
      "Epoch 90/100\n",
      "32/32 [==============================] - 2s 74ms/step - loss: 0.4741 - accuracy: 0.8630 - val_loss: 0.4472 - val_accuracy: 0.8584\n",
      "Epoch 91/100\n",
      "32/32 [==============================] - 2s 75ms/step - loss: 0.4468 - accuracy: 0.8748 - val_loss: 0.3998 - val_accuracy: 0.8950\n",
      "Epoch 92/100\n",
      "32/32 [==============================] - 2s 73ms/step - loss: 0.4598 - accuracy: 0.8820 - val_loss: 0.3959 - val_accuracy: 0.9064\n",
      "Epoch 93/100\n",
      "32/32 [==============================] - 2s 76ms/step - loss: 0.4453 - accuracy: 0.8581 - val_loss: 0.3915 - val_accuracy: 0.9247\n",
      "Epoch 94/100\n",
      "32/32 [==============================] - 2s 73ms/step - loss: 0.4258 - accuracy: 0.8833 - val_loss: 0.4482 - val_accuracy: 0.8699\n",
      "Epoch 95/100\n",
      "32/32 [==============================] - 2s 74ms/step - loss: 0.4805 - accuracy: 0.8623 - val_loss: 0.4469 - val_accuracy: 0.8790\n",
      "Epoch 96/100\n",
      "32/32 [==============================] - 2s 73ms/step - loss: 0.4626 - accuracy: 0.8708 - val_loss: 0.3939 - val_accuracy: 0.8995\n",
      "Epoch 97/100\n",
      "32/32 [==============================] - 2s 76ms/step - loss: 0.4235 - accuracy: 0.8692 - val_loss: 0.3974 - val_accuracy: 0.9018\n",
      "Epoch 98/100\n",
      "32/32 [==============================] - 2s 73ms/step - loss: 0.4899 - accuracy: 0.8469 - val_loss: 0.4468 - val_accuracy: 0.8653\n",
      "Epoch 99/100\n",
      "32/32 [==============================] - 2s 75ms/step - loss: 0.4847 - accuracy: 0.8678 - val_loss: 0.4237 - val_accuracy: 0.8721\n",
      "Epoch 100/100\n",
      "32/32 [==============================] - 2s 71ms/step - loss: 0.4376 - accuracy: 0.8716 - val_loss: 0.3938 - val_accuracy: 0.9201\n"
     ]
    }
   ],
   "source": [
    "model_3.compile(optimizer='adam',\n",
    "              loss='binary_crossentropy',\n",
    "              metrics=['accuracy'])\n",
    "\n",
    "hist_3 = model_3.fit(X_train, Y_train,\n",
    "          batch_size=32, epochs=100,\n",
    "          validation_data=(X_test, Y_test))"
   ]
  },
  {
   "cell_type": "code",
   "execution_count": 49,
   "metadata": {},
   "outputs": [
    {
     "data": {
      "image/png": "[encoded data removed]",
      "text/plain": [
       "<Figure size 432x288 with 1 Axes>"
      ]
     },
     "metadata": {
      "needs_background": "light"
     },
     "output_type": "display_data"
    }
   ],
   "source": [
    "plt.plot(hist_3.history['loss'])\n",
    "plt.plot(hist_3.history['val_loss'])\n",
    "plt.title('Model loss')\n",
    "plt.ylabel('Loss')\n",
    "plt.xlabel('Epoch')\n",
    "plt.legend(['Train', 'Test'], loc='upper right')\n",
    "plt.ylim(top=1.2, bottom=0)\n",
    "plt.show()"
   ]
  },
  {
   "cell_type": "code",
   "execution_count": 51,
   "metadata": {},
   "outputs": [
    {
     "data": {
      "image/png": "[encoded data removed]",
      "text/plain": [
       "<Figure size 432x288 with 1 Axes>"
      ]
     },
     "metadata": {
      "needs_background": "light"
     },
     "output_type": "display_data"
    }
   ],
   "source": [
    "plt.plot(hist_3.history['accuracy'])\n",
    "plt.plot(hist_3.history['val_accuracy'])\n",
    "plt.title('Model accuracy')\n",
    "plt.ylabel('Accuracy')\n",
    "plt.xlabel('Epoch')\n",
    "plt.legend(['Train', 'Test'], loc='lower right')\n",
    "plt.show()"
   ]
  },
  {
   "cell_type": "markdown",
   "metadata": {},
   "source": [
    "- there is less overfitting"
   ]
  }
 ],
 "metadata": {
  "kernelspec": {
   "display_name": "Python [conda env:nlp]",
   "language": "python",
   "name": "conda-env-nlp-py"
  },
  "language_info": {
   "codemirror_mode": {
    "name": "ipython",
    "version": 3
   },
   "file_extension": ".py",
   "mimetype": "text/x-python",
   "name": "python",
   "nbconvert_exporter": "python",
   "pygments_lexer": "ipython3",
   "version": "3.7.10"
  }
 },
 "nbformat": 4,
 "nbformat_minor": 4
}
